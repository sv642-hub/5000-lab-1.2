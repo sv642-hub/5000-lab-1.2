{
  "cells": [
    {
      "cell_type": "markdown",
      "metadata": {},
      "source": [
        "---\n",
        "title: \"About\"\n",
        "---\n",
        "\n",
        "# This is Lab 3, and it talks about Stoicism"
      ]
    },
    {
      "cell_type": "code",
      "execution_count": 1,
      "metadata": {},
      "outputs": [
        {
          "name": "stdout",
          "output_type": "stream",
          "text": [
            "💡 Stoic Thought of the Day:\n",
            "It is not that we have a short time to live, but that we waste a lot of it. – Seneca\n"
          ]
        }
      ],
      "source": [
        "import random\n",
        "\n",
        "# A small collection of Stoic quotes\n",
        "stoic_quotes = [\n",
        "    \"It's not what happens to you, but how you react to it that matters. – Epictetus\",\n",
        "    \"You have power over your mind, not outside events. Realize this, and you will find strength. – Marcus Aurelius\",\n",
        "    \"It is not that we have a short time to live, but that we waste a lot of it. – Seneca\",\n",
        "    \"Wealth consists not in having great possessions, but in having few wants. – Epictetus\",\n",
        "    \"The happiness of your life depends upon the quality of your thoughts. – Marcus Aurelius\"\n",
        "]\n",
        "\n",
        "def random_stoic_quote():\n",
        "    \"\"\"Return a random Stoic quote.\"\"\"\n",
        "    return random.choice(stoic_quotes)\n",
        "\n",
        "if __name__ == \"__main__\":\n",
        "    print(\"💡 Stoic Thought of the Day:\")\n",
        "    print(random_stoic_quote())\n"
      ]
    }
  ],
  "metadata": {
    "kernelspec": {
      "display_name": "base",
      "language": "python",
      "name": "python3"
    },
    "language_info": {
      "codemirror_mode": {
        "name": "ipython",
        "version": 3
      },
      "file_extension": ".py",
      "mimetype": "text/x-python",
      "name": "python",
      "nbconvert_exporter": "python",
      "pygments_lexer": "ipython3",
      "version": "3.13.5"
    }
  },
  "nbformat": 4,
  "nbformat_minor": 4
}
