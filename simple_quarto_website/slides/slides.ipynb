{
 "cells": [
  {
   "cell_type": "raw",
   "id": "239d81f3",
   "metadata": {
    "vscode": {
     "languageId": "raw"
    }
   },
   "source": [
    "---\n",
    "title: \"Lab 3 - Stoicism\"\n",
    "format:\n",
    "    revealjs:\n",
    "        code-overflow: wrap\n",
    "        echo: true       # ← show code\n",
    "        execute: true    # ← run code before rendering\n",
    "        self-contained: false\n",
    "bibliography: ../reference.bib\n",
    "link-citations: true\n",
    "jupyter: true\n",
    "\n",
    "---\n"
   ]
  },
  {
   "cell_type": "markdown",
   "id": "bbb98017",
   "metadata": {
    "vscode": {
     "languageId": "raw"
    }
   },
   "source": [
    "## Stoic Masters of Thought\n",
    "\n",
    "| ![Epictetus](../images/marcus_aurelius.jpg) | ![Seneca](../images/seneca.jpg) |\n",
    "|:----------------------------------:|:----------------------------:|\n",
    "| **Epictetus**                     | **Seneca**                  |\n",
    "\n",
    "\n",
    "## Stoic Lgegacy\n",
    "[@carter1766discourses] emphasizes the enduring value of Stoic philosophy.\n",
    "\n",
    "## Python Demo\n",
    "\n",
    "Here’s a random Stoic quote from Python:\n"
   ]
  },
  {
   "cell_type": "code",
   "execution_count": 1,
   "id": "fdc2a4ea",
   "metadata": {},
   "outputs": [
    {
     "name": "stdout",
     "output_type": "stream",
     "text": [
      "💡 Stoic Thought of the Day:\n",
      "Wealth consists not in having great possessions, but in having few wants. – Epictetus\n"
     ]
    }
   ],
   "source": [
    "import random\n",
    "\n",
    "quotes = [\n",
    "    \"Wealth consists not in having great possessions, but in having few wants. – Epictetus\",\n",
    "    \"The happiness of your life depends on the quality of your thoughts. – Marcus Aurelius\",\n",
    "    \"It is not that we have a short time to live, but that we waste a lot of it. – Seneca\"\n",
    "]\n",
    "\n",
    "print(\"💡 Stoic Thought of the Day:\")\n",
    "print(random.choice(quotes))"
   ]
  },
  {
   "cell_type": "markdown",
   "id": "25ddbabf",
   "metadata": {},
   "source": [
    "## References\n",
    "::: {#refs}\n",
    ":::"
   ]
  }
 ],
 "metadata": {
  "kernelspec": {
   "display_name": "base",
   "language": "python",
   "name": "python3"
  },
  "language_info": {
   "codemirror_mode": {
    "name": "ipython",
    "version": 3
   },
   "file_extension": ".py",
   "mimetype": "text/x-python",
   "name": "python",
   "nbconvert_exporter": "python",
   "pygments_lexer": "ipython3",
   "version": "3.13.5"
  }
 },
 "nbformat": 4,
 "nbformat_minor": 5
}
